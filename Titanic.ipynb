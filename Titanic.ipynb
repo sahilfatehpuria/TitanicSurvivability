{
  "nbformat": 4,
  "nbformat_minor": 0,
  "metadata": {
    "colab": {
      "provenance": []
    },
    "kernelspec": {
      "name": "python3",
      "display_name": "Python 3"
    },
    "language_info": {
      "name": "python"
    }
  },
  "cells": [
    {
      "cell_type": "code",
      "source": [
        "import pandas as pd\n",
        "import numpy as np\n",
        "import math\n",
        "import matplotlib.pyplot as plt\n",
        "import torch\n",
        "import torch.nn.functional as F\n",
        "from torch import nn\n",
        "from torch.utils.data import TensorDataset, DataLoader, random_split\n",
        "!pip install shap\n",
        "import shap\n",
        "%matplotlib inline\n",
        "device = torch.device('cuda' if torch.cuda.is_available() else 'cpu')\n",
        "torch.manual_seed(19)"
      ],
      "metadata": {
        "colab": {
          "base_uri": "https://localhost:8080/"
        },
        "id": "-9jFvtoYm0I0",
        "outputId": "93b652e9-32de-4d19-a363-fdffb9f1b153"
      },
      "execution_count": 400,
      "outputs": [
        {
          "output_type": "stream",
          "name": "stdout",
          "text": [
            "Collecting shap\n",
            "  Downloading shap-0.44.1-cp310-cp310-manylinux_2_12_x86_64.manylinux2010_x86_64.manylinux_2_17_x86_64.manylinux2014_x86_64.whl (535 kB)\n",
            "\u001b[?25l     \u001b[90m━━━━━━━━━━━━━━━━━━━━━━━━━━━━━━━━━━━━━━━━\u001b[0m \u001b[32m0.0/535.7 kB\u001b[0m \u001b[31m?\u001b[0m eta \u001b[36m-:--:--\u001b[0m\r\u001b[2K     \u001b[91m━━━━━━\u001b[0m\u001b[91m╸\u001b[0m\u001b[90m━━━━━━━━━━━━━━━━━━━━━━━━━━━━━━━━━\u001b[0m \u001b[32m92.2/535.7 kB\u001b[0m \u001b[31m2.7 MB/s\u001b[0m eta \u001b[36m0:00:01\u001b[0m\r\u001b[2K     \u001b[91m━━━━━━━━━━━━━━━━━━━━━━━━━━━━━━\u001b[0m\u001b[91m╸\u001b[0m\u001b[90m━━━━━━━━━\u001b[0m \u001b[32m409.6/535.7 kB\u001b[0m \u001b[31m6.0 MB/s\u001b[0m eta \u001b[36m0:00:01\u001b[0m\r\u001b[2K     \u001b[90m━━━━━━━━━━━━━━━━━━━━━━━━━━━━━━━━━━━━━━━━\u001b[0m \u001b[32m535.7/535.7 kB\u001b[0m \u001b[31m6.0 MB/s\u001b[0m eta \u001b[36m0:00:00\u001b[0m\n",
            "\u001b[?25hRequirement already satisfied: numpy in /usr/local/lib/python3.10/dist-packages (from shap) (1.23.5)\n",
            "Requirement already satisfied: scipy in /usr/local/lib/python3.10/dist-packages (from shap) (1.11.4)\n",
            "Requirement already satisfied: scikit-learn in /usr/local/lib/python3.10/dist-packages (from shap) (1.2.2)\n",
            "Requirement already satisfied: pandas in /usr/local/lib/python3.10/dist-packages (from shap) (1.5.3)\n",
            "Requirement already satisfied: tqdm>=4.27.0 in /usr/local/lib/python3.10/dist-packages (from shap) (4.66.1)\n",
            "Requirement already satisfied: packaging>20.9 in /usr/local/lib/python3.10/dist-packages (from shap) (23.2)\n",
            "Collecting slicer==0.0.7 (from shap)\n",
            "  Downloading slicer-0.0.7-py3-none-any.whl (14 kB)\n",
            "Requirement already satisfied: numba in /usr/local/lib/python3.10/dist-packages (from shap) (0.58.1)\n",
            "Requirement already satisfied: cloudpickle in /usr/local/lib/python3.10/dist-packages (from shap) (2.2.1)\n",
            "Requirement already satisfied: llvmlite<0.42,>=0.41.0dev0 in /usr/local/lib/python3.10/dist-packages (from numba->shap) (0.41.1)\n",
            "Requirement already satisfied: python-dateutil>=2.8.1 in /usr/local/lib/python3.10/dist-packages (from pandas->shap) (2.8.2)\n",
            "Requirement already satisfied: pytz>=2020.1 in /usr/local/lib/python3.10/dist-packages (from pandas->shap) (2023.4)\n",
            "Requirement already satisfied: joblib>=1.1.1 in /usr/local/lib/python3.10/dist-packages (from scikit-learn->shap) (1.3.2)\n",
            "Requirement already satisfied: threadpoolctl>=2.0.0 in /usr/local/lib/python3.10/dist-packages (from scikit-learn->shap) (3.2.0)\n",
            "Requirement already satisfied: six>=1.5 in /usr/local/lib/python3.10/dist-packages (from python-dateutil>=2.8.1->pandas->shap) (1.16.0)\n",
            "Installing collected packages: slicer, shap\n",
            "Successfully installed shap-0.44.1 slicer-0.0.7\n"
          ]
        },
        {
          "output_type": "execute_result",
          "data": {
            "text/plain": [
              "<torch._C.Generator at 0x78de6055a2f0>"
            ]
          },
          "metadata": {},
          "execution_count": 400
        }
      ]
    },
    {
      "cell_type": "code",
      "source": [
        "# Training loss\n",
        "@torch.no_grad()\n",
        "def get_stats(datain):\n",
        "  X, y = datain[:]\n",
        "  preds = model(X)\n",
        "  loss = loss_fn(preds, y)\n",
        "  classifications = torch.round(nn.Sigmoid()(preds))\n",
        "  true_pos = 0\n",
        "  true_neg = 0\n",
        "  false_pos = 0\n",
        "  false_neg = 0\n",
        "  for i in range(len(classifications)):\n",
        "    if classifications[i] == 1:\n",
        "      if y[i] == 1:\n",
        "        true_pos += 1\n",
        "      else: false_pos += 1\n",
        "    else:\n",
        "      if y[i] == 1:\n",
        "        false_neg += 1\n",
        "      else: true_neg += 1\n",
        "  print(f\"**Loss: {loss.item():.4f}**\")\n",
        "  print()\n",
        "  print(\"Confusion Matrix: \")\n",
        "  print()\n",
        "  print(\"|    | Tp | Tn |\")\n",
        "  print(\"|---|---|---|\")\n",
        "  print(\"| Pp |\", true_pos, \"|\", false_pos )\n",
        "  print(\"| Pn |\", false_neg, \"|\", true_neg )\n",
        "  accuracy = (true_pos + true_neg)/(true_pos + true_neg + false_pos + false_neg)\n",
        "  precision = (true_pos)/(true_pos + false_pos)\n",
        "  recall = (true_pos)/(true_pos + false_neg)\n",
        "  f1 = 2*precision*recall/(precision + recall)\n",
        "  print()\n",
        "  print(\"|Stat|Value|\")\n",
        "  print(\"|---|---|\")\n",
        "  print(f\"|Accuracy | {accuracy:.4f}\")\n",
        "  print(f\"|Precision | {precision:.4f}\")\n",
        "  print(f\"|Recall | {recall:.4f}\")\n",
        "  print(f\"|F1 | {f1:.4f}\")"
      ],
      "metadata": {
        "id": "yOa0NfOSEwSz"
      },
      "execution_count": 187,
      "outputs": []
    },
    {
      "cell_type": "code",
      "source": [
        "!unzip titanic.zip\n",
        "df = pd.read_csv('train.csv')\n",
        "test_df = pd.read_csv('test.csv')"
      ],
      "metadata": {
        "id": "Yb1K9PffFzhW"
      },
      "execution_count": 362,
      "outputs": []
    },
    {
      "cell_type": "code",
      "source": [
        "df['class1'] = df['Pclass'] == 1\n",
        "df['class2'] = df['Pclass'] == 2\n",
        "df['class3'] = df['Pclass'] == 3\n",
        "df['embarkedS'] = df['Embarked'] == 'S'\n",
        "df['embarkedC'] = df['Embarked'] == 'C'\n",
        "df['embarkedQ'] = df['Embarked'] == 'Q'\n",
        "df['female'] = df['Sex'] == 'female'\n",
        "test_df['class1'] = test_df['Pclass'] == 1\n",
        "test_df['class2'] = test_df['Pclass'] == 2\n",
        "test_df['class3'] = test_df['Pclass'] == 3\n",
        "test_df['embarkedS'] = test_df['Embarked'] == 'S'\n",
        "test_df['embarkedC'] = test_df['Embarked'] == 'C'\n",
        "test_df['embarkedQ'] = test_df['Embarked'] == 'Q'\n",
        "test_df['female'] = test_df['Sex'] == 'female'"
      ],
      "metadata": {
        "id": "A88lcYZtGAGz"
      },
      "execution_count": 363,
      "outputs": []
    },
    {
      "cell_type": "code",
      "source": [
        "training_df = df[['class1', 'class2', 'class3', 'embarkedS', 'embarkedC', 'embarkedQ', 'female', 'Fare', 'Age', 'SibSp', 'Parch']].copy()\n",
        "for c in training_df.columns:\n",
        "  training_df[c] = training_df[c].astype('float32')\n",
        "training_df['Age'] = training_df['Age'].fillna(training_df['Age'].mean())\n",
        "labels = df['Survived'].astype('float32')\n",
        "features = training_df.shape[1]\n",
        "\n",
        "ids = test_df['PassengerId']\n",
        "test_df = test_df[['class1', 'class2', 'class3', 'embarkedS', 'embarkedC', 'embarkedQ', 'female', 'Fare', 'Age', 'SibSp', 'Parch']].copy()\n",
        "for c in test_df.columns:\n",
        "  test_df[c] = test_df[c].astype('float32')\n",
        "test_df['Age'] = test_df['Age'].fillna(test_df['Age'].mean())"
      ],
      "metadata": {
        "id": "2IkrOWX0JOlg"
      },
      "execution_count": 365,
      "outputs": []
    },
    {
      "cell_type": "code",
      "source": [
        "X = torch.tensor(training_df.values)\n",
        "y = torch.unsqueeze(torch.tensor(labels.values), 1)\n",
        "XTest = torch.tensor(test_df.values)"
      ],
      "metadata": {
        "id": "LU3BMR-PuAXn"
      },
      "execution_count": 366,
      "outputs": []
    },
    {
      "cell_type": "code",
      "source": [
        "split_data = random_split(TensorDataset(X, y), [0.9, 0.1])\n",
        "training_data = split_data[0]\n",
        "val_data = split_data[1]"
      ],
      "metadata": {
        "id": "sA4q5yynyVYm"
      },
      "execution_count": 367,
      "outputs": []
    },
    {
      "cell_type": "code",
      "source": [
        "hidden1 = 50\n",
        "out = 1"
      ],
      "metadata": {
        "id": "sJCbiy6UqI9L"
      },
      "execution_count": 368,
      "outputs": []
    },
    {
      "cell_type": "code",
      "source": [
        "model = nn.Sequential(\n",
        "    nn.Linear(features, hidden1), nn.ReLU(),\n",
        "    # nn.Linear(hidden1, hidden2), nn.ReLU(),\n",
        "    nn.Linear(hidden1, out)\n",
        ")"
      ],
      "metadata": {
        "id": "G5_Zf7IToV7y"
      },
      "execution_count": 369,
      "outputs": []
    },
    {
      "cell_type": "code",
      "source": [
        "epochs = 100\n",
        "lr = 0.1\n",
        "loss_fn = nn.BCEWithLogitsLoss()\n",
        "optimizer = torch.optim.Adagrad(model.parameters(), lr=lr)"
      ],
      "metadata": {
        "id": "MDEOPo4Q1rAl"
      },
      "execution_count": 370,
      "outputs": []
    },
    {
      "cell_type": "code",
      "source": [
        "train_dataloader = DataLoader(training_data, batch_size=64, shuffle=True)\n",
        "losses = []\n",
        "iters = 0\n",
        "for _ in range(epochs):\n",
        "  for Xb, Yb in train_dataloader:\n",
        "    preds = model(Xb)\n",
        "    loss = loss_fn(preds, Yb)\n",
        "    loss.backward()\n",
        "    optimizer.step()\n",
        "    optimizer.zero_grad()\n",
        "    losses.append(loss.item())\n",
        "    iters += 1"
      ],
      "metadata": {
        "id": "xlVIrWy9QdlI"
      },
      "execution_count": 371,
      "outputs": []
    },
    {
      "cell_type": "code",
      "source": [
        "print(\"# Training Data\")\n",
        "print()\n",
        "get_stats(training_data)\n",
        "print(\"# Validation Data\")\n",
        "print()\n",
        "get_stats(val_data)"
      ],
      "metadata": {
        "colab": {
          "base_uri": "https://localhost:8080/"
        },
        "id": "vetST_fOKkZU",
        "outputId": "dc57addf-0390-44c4-a285-a231065fd08f"
      },
      "execution_count": 373,
      "outputs": [
        {
          "output_type": "stream",
          "name": "stdout",
          "text": [
            "# Training Data\n",
            "\n",
            "**Loss: 0.4068**\n",
            "\n",
            "Confusion Matrix: \n",
            "\n",
            "|    | Tp | Tn |\n",
            "|---|---|---|\n",
            "| Pp | 251 | 103\n",
            "| Pn | 56 | 392\n",
            "\n",
            "|Stat|Value|\n",
            "|---|---|\n",
            "|Accuracy | 0.8017\n",
            "|Precision | 0.7090\n",
            "|Recall | 0.8176\n",
            "|F1 | 0.7595\n",
            "# Validation Data\n",
            "\n",
            "**Loss: 0.4510**\n",
            "\n",
            "Confusion Matrix: \n",
            "\n",
            "|    | Tp | Tn |\n",
            "|---|---|---|\n",
            "| Pp | 32 | 14\n",
            "| Pn | 3 | 40\n",
            "\n",
            "|Stat|Value|\n",
            "|---|---|\n",
            "|Accuracy | 0.8090\n",
            "|Precision | 0.6957\n",
            "|Recall | 0.9143\n",
            "|F1 | 0.7901\n"
          ]
        }
      ]
    },
    {
      "cell_type": "markdown",
      "source": [
        "**First attempt:**\n",
        "\n",
        "# Training data:\n",
        "\n",
        "**Loss: 0.3570**\n",
        "\n",
        "Confusion Matrix:\n",
        "\n",
        "|    | Tp | Tn |\n",
        "|----|----|----|\n",
        "| Pp | 255 | 64 |\n",
        "| Pn | 56 | 427 |\n",
        "\n",
        "|Stat|Value|\n",
        "|---|---|\n",
        "|Accuracy | 0.8504\n",
        "|Precision | 0.7994\n",
        "|Recall | 0.8199|\n",
        "|F1 | 0.8095|\n",
        "\n",
        "# Validation data\n",
        "\n",
        "**Loss: 0.6677**\n",
        "\n",
        "Confusion Matrix:\n",
        "\n",
        "|    | Tp | Tn |\n",
        "|----|----|----|\n",
        "| Pp | 23 | 18\n",
        "| Pn | 8 | 40\n",
        "\n",
        "|Stat|Value|\n",
        "|---|---|\n",
        "|Accuracy | 0.7079\n",
        "|Precision | 0.5610\n",
        "|Recall | 0.7419\n",
        "|F1 | 0.6389\n"
      ],
      "metadata": {
        "id": "k7ZHM_PHMq-n"
      }
    },
    {
      "cell_type": "markdown",
      "source": [
        "**Second Attempt**\n",
        "\n",
        "I simplified the model, reduced it to two layers to reduce the overfitting. Need to reduce overfitting more\n",
        "\n",
        "# Training Data\n",
        "\n",
        "**Loss: 0.3468**\n",
        "\n",
        "Confusion Matrix:\n",
        "\n",
        "|    | Tp | Tn |\n",
        "|---|---|---|\n",
        "| Pp | 234 | 50\n",
        "| Pn | 75 | 443\n",
        "\n",
        "|Stat|Value|\n",
        "|---|---|\n",
        "|Accuracy | 0.8441\n",
        "|Precision | 0.8239\n",
        "|Recall | 0.7573\n",
        "|F1 | 0.7892\n",
        "\n",
        "# Validation Data\n",
        "\n",
        "**Loss: 0.4784**\n",
        "\n",
        "Confusion Matrix:\n",
        "\n",
        "|    | Tp | Tn |\n",
        "|---|---|---|\n",
        "| Pp | 20 | 7\n",
        "| Pn | 13 | 49\n",
        "\n",
        "|Stat|Value|\n",
        "|---|---|\n",
        "|Accuracy | 0.7753\n",
        "|Precision | 0.7407\n",
        "|Recall | 0.6061\n",
        "|F1 | 0.6667"
      ],
      "metadata": {
        "id": "aqljDtwhRCMY"
      }
    },
    {
      "cell_type": "markdown",
      "source": [
        "**Third Attempt**\n",
        "\n",
        "Simplified further, only one layer now, with hidden dim 50 instead of 100\n",
        "# Training Data\n",
        "**Loss: 0.3985**\n",
        "\n",
        "Confusion Matrix:\n",
        "\n",
        "|    | Tp | Tn |\n",
        "|---|---|---|\n",
        "| Pp | 247 | 87\n",
        "| Pn | 62 | 406\n",
        "\n",
        "|Stat|Value|\n",
        "|---|---|\n",
        "|Accuracy | 0.8142\n",
        "|Precision | 0.7395\n",
        "|Recall | 0.7994\n",
        "|F1 | 0.7683\n",
        "\n",
        "# Validation Data\n",
        "**Loss: 0.4394**\n",
        "\n",
        "Confusion Matrix:\n",
        "\n",
        "|    | Tp | Tn |\n",
        "|---|---|---|\n",
        "| Pp | 24 | 9\n",
        "| Pn | 9 | 47\n",
        "\n",
        "|Stat|Value|\n",
        "|---|---|\n",
        "|Accuracy | 0.7978\n",
        "|Precision | 0.7273\n",
        "|Recall | 0.7273\n",
        "|F1 | 0.7273"
      ],
      "metadata": {
        "id": "aGYzRuvwUXQ4"
      }
    },
    {
      "cell_type": "code",
      "source": [
        "explainer = shap.DeepExplainer(model, training_data[:][0])\n",
        "shap_values = explainer.shap_values(training_data[:][0])"
      ],
      "metadata": {
        "id": "Ky1BTXJdgsUE"
      },
      "execution_count": 411,
      "outputs": []
    },
    {
      "cell_type": "code",
      "source": [
        "shap.summary_plot(shap_values, training_data[:][0], training_df.columns)"
      ],
      "metadata": {
        "colab": {
          "base_uri": "https://localhost:8080/",
          "height": 596
        },
        "id": "eafP1ARkiAYC",
        "outputId": "071f3549-f592-47a8-d921-50209fc0da2c"
      },
      "execution_count": 412,
      "outputs": [
        {
          "output_type": "display_data",
          "data": {
            "text/plain": [
              "<Figure size 800x590 with 2 Axes>"
            ],
            "image/png": "[encoded data removed]"
          },
          "metadata": {}
        }
      ]
    },
    {
      "cell_type": "code",
      "source": [
        "classifications = torch.round(nn.Sigmoid()(model(XTest))).to(int)"
      ],
      "metadata": {
        "id": "PTw0RbYWbu3Y"
      },
      "execution_count": 393,
      "outputs": []
    },
    {
      "cell_type": "code",
      "source": [
        "classifications_series = pd.Series(classifications.squeeze().detach().numpy())"
      ],
      "metadata": {
        "id": "5sa-Wv2Icmui"
      },
      "execution_count": 394,
      "outputs": []
    },
    {
      "cell_type": "code",
      "source": [
        "classifications_series.name = 'Survived'"
      ],
      "metadata": {
        "id": "isnLYH8wdteK"
      },
      "execution_count": 395,
      "outputs": []
    },
    {
      "cell_type": "code",
      "source": [
        "ids.name = 'PassengerId'"
      ],
      "metadata": {
        "id": "GmOfZkUZejXN"
      },
      "execution_count": 396,
      "outputs": []
    },
    {
      "cell_type": "code",
      "source": [
        "result_df = pd.concat([ids, classifications_series], axis=1)"
      ],
      "metadata": {
        "id": "ZrWoMO6-dx5j"
      },
      "execution_count": 397,
      "outputs": []
    },
    {
      "cell_type": "code",
      "source": [
        "result_df.to_csv('results.csv', index=False)"
      ],
      "metadata": {
        "id": "QJDZ-FDher9W"
      },
      "execution_count": 398,
      "outputs": []
    }
  ]
}